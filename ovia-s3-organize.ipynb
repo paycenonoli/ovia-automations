{
 "cells": [
  {
   "cell_type": "code",
   "execution_count": 1,
   "metadata": {},
   "outputs": [],
   "source": [
    "import boto3\n",
    "from datetime import datetime"
   ]
  },
  {
   "cell_type": "code",
   "execution_count": null,
   "metadata": {},
   "outputs": [],
   "source": [
    "# Get the current local date and time. Define the variable 'today'\n",
    "today = datetime.today()"
   ]
  },
  {
   "cell_type": "code",
   "execution_count": null,
   "metadata": {},
   "outputs": [],
   "source": [
    "# Define a variable 'todays_date' and use it to format the date to a desired format\n",
    "todays_date = today.strftime(\"%Y%m%d\")"
   ]
  },
  {
   "cell_type": "code",
   "execution_count": null,
   "metadata": {},
   "outputs": [],
   "source": [
    "# Connect with your S3 bucket by specifying your client[= variable (Search Google: boto3 aws s3)]\n",
    "s3_client = boto3.client('s3')"
   ]
  },
  {
   "cell_type": "code",
   "execution_count": null,
   "metadata": {},
   "outputs": [],
   "source": [
    "# Create a variable 'bucket_name' and set it to the name of your s3 bucket\n",
    "bucket_name = \"ovia-lambda-fn\" "
   ]
  },
  {
   "cell_type": "code",
   "execution_count": null,
   "metadata": {},
   "outputs": [],
   "source": [
    "# Write a syntax to list objects in your s3 bucket ( Go to Google: boto3 aws list s3 objects)\n",
    "list_objects_response = s3_client.list_objects_v2(Bucket=bucket_name)"
   ]
  },
  {
   "cell_type": "code",
   "execution_count": null,
   "metadata": {},
   "outputs": [],
   "source": [
    "# Get only the contents from the dictionary using the 'get' method. Create a variable to store that: get_contents\n",
    "get_contents = list_objects_response.get(\"Contents\")"
   ]
  },
  {
   "cell_type": "code",
   "execution_count": null,
   "metadata": {},
   "outputs": [],
   "source": [
    "# Get all the objects in your s3 bucket and store them in a variable\n",
    "get_all_s3_objects_and_folder_names = []\n",
    "\n",
    "# There are several objects so we use our 'For' loop to iterate\n",
    "for item in get_contents:\n",
    "    s3_object_name = item.get(\"Key\")\n",
    "    \n",
    "# Now append it in the empty list\n",
    "    get_all_s3_objects_and_folder_names.append(s3_object_name)"
   ]
  },
  {
   "cell_type": "code",
   "execution_count": null,
   "metadata": {},
   "outputs": [],
   "source": [
    "# So we have extracted all the objects in our s3 bucket and stored them in this list\n",
    "# Next we need to create a folder for today's date in our s3 bucket. if one does not exist. Remember the folder has to be named according to today's date\n",
    "\n",
    "directory_name = todays_date + \"/\"\n",
    "# That is, the variable 'directory_name' equals our previous variable 'todays_date' plus a forward slash. To create a folder in s3 bucket, you enter the folder name with a forward slash."
   ]
  },
  {
   "cell_type": "code",
   "execution_count": null,
   "metadata": {},
   "outputs": [],
   "source": [
    "# Next we create a folder in our s3 bucket, But first we check if it exists. So we use an 'If' statement\n",
    "\n",
    "if directory_name not in get_all_s3_objects_and_folder_names:\n",
    "    s3_client.put_object(Bucket=bucket_name, Key=(directory_name))\n",
    "    \n",
    "    # We call the s3 client to create a folder in our s3 bucket. So we look for the boto3 documentation to 'PUT' an object in our s3 bucket.\n",
    "    "
   ]
  },
  {
   "cell_type": "code",
   "execution_count": null,
   "metadata": {},
   "outputs": [],
   "source": [
    "# Next, we move any object that was uploaded today, into the folder having today's date:\n",
    "# So we write our code for this, ensuring the two conditions are met:\n",
    "# The last modified date must be today's date, and the object must not be a folder (i.e. with a forward slash), but a file.\n",
    "# In S3, there's no method to move an object into a folder. So first, we copy the objects into the folder, then after that, we delete them.\n",
    "# We start with a 'For' loop: We creates two variables: for 'last modified' and 'for key' which is our object name\n",
    "for item in get_contents:\n",
    "    object_creation_date = item.get(\"LastModified\").strftime(\"%Y%m%d\") + \"/\"\n",
    "    object_name = item.get(\"Key\")\n",
    "    \n",
    "    if object_creation_date == directory_name and \"/\" not in object_name:\n",
    "        s3_client.copy_object(Bucket=bucket_name, CopySource=bucket_name+\"/\"+object_name, Key=directory_name+object_name)\n",
    "        s3_client.delete_object(Bucket=bucket_name, Key=object_name)"
   ]
  }
 ],
 "metadata": {
  "kernelspec": {
   "display_name": "Python 3",
   "language": "python",
   "name": "python3"
  },
  "language_info": {
   "codemirror_mode": {
    "name": "ipython",
    "version": 3
   },
   "file_extension": ".py",
   "mimetype": "text/x-python",
   "name": "python",
   "nbconvert_exporter": "python",
   "pygments_lexer": "ipython3",
   "version": "3.8.10"
  }
 },
 "nbformat": 4,
 "nbformat_minor": 2
}
